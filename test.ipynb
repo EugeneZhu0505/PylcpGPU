{
 "cells": [
  {
   "cell_type": "code",
   "execution_count": 1,
   "id": "cdffeeb0",
   "metadata": {},
   "outputs": [],
   "source": [
    "import h5py\n",
    "import numpy as np\n",
    "from scipy.optimize import OptimizeResult"
   ]
  },
  {
   "cell_type": "code",
   "execution_count": 5,
   "id": "02f756e1",
   "metadata": {},
   "outputs": [],
   "source": [
    "rs, vs, rhos = [], [], []\n",
    "with h5py.File('/home/zhuyuchen/Code/PylcpGPU/inti_solsobe.h5', 'r') as f:\n",
    "    for key in f.keys():\n",
    "        group = f[key]\n",
    "        rs.append(np.array(group['r']))\n",
    "        vs.append(np.array(group['v']))\n",
    "        rhos.append(np.array(group['rho']).flatten())       \n",
    "\n",
    "rs = np.array(rs).T\n",
    "vs = np.array(vs).T\n",
    "rhos = np.array(rhos).T\n",
    "\n",
    "sol  = OptimizeResult(r=rs, v=vs, rho=rhos)"
   ]
  },
  {
   "cell_type": "code",
   "execution_count": 6,
   "id": "43cc9a03",
   "metadata": {},
   "outputs": [],
   "source": [
    "with h5py.File('/home/zhuyuchen/Code/PylcpGPU/initial_sol.h5', 'w') as f:\n",
    "\n",
    "        group = f.create_group('sol')\n",
    "        # sol 下有 r v rho F\n",
    "        for key in sol.keys():\n",
    "            group.create_dataset(name=key, data=sol[key])"
   ]
  }
 ],
 "metadata": {
  "kernelspec": {
   "display_name": "pylcpGPU",
   "language": "python",
   "name": "python3"
  },
  "language_info": {
   "codemirror_mode": {
    "name": "ipython",
    "version": 3
   },
   "file_extension": ".py",
   "mimetype": "text/x-python",
   "name": "python",
   "nbconvert_exporter": "python",
   "pygments_lexer": "ipython3",
   "version": "3.8.20"
  }
 },
 "nbformat": 4,
 "nbformat_minor": 5
}
